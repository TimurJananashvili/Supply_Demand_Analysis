{
 "cells": [
  {
   "cell_type": "markdown",
   "id": "38b6563c-a8f4-4a76-8422-b9bbb7d87aa5",
   "metadata": {
    "jp-MarkdownHeadingCollapsed": true
   },
   "source": [
    "#### Step 1: Importing necessary libraries"
   ]
  },
  {
   "cell_type": "code",
   "execution_count": 1,
   "id": "61e9e027-7a04-440c-bb1e-c223ab65bbdf",
   "metadata": {},
   "outputs": [],
   "source": [
    "import pandas as pds\n",
    "from matplotlib import pyplot as plt"
   ]
  },
  {
   "cell_type": "markdown",
   "id": "4ddca99b-b35d-4b43-bee6-a89dbe14b178",
   "metadata": {
    "jp-MarkdownHeadingCollapsed": true
   },
   "source": [
    "#### Step 2: Importing and reading data files via pandas"
   ]
  },
  {
   "cell_type": "code",
   "execution_count": 5,
   "id": "343ed2ed-8bbc-4066-835c-056377d186a9",
   "metadata": {},
   "outputs": [],
   "source": [
    "DemandData = pds.read_csv('Demand Data.csv')\n",
    "SupplyData = pds.read_csv('Supply Data.csv')"
   ]
  },
  {
   "cell_type": "markdown",
   "id": "f4ecd097-fc9a-4480-aed8-9d60be3ddabf",
   "metadata": {},
   "source": [
    "#### Step 3: Introducing and analyzing imported datasets for further work"
   ]
  },
  {
   "cell_type": "code",
   "execution_count": 7,
   "id": "512e8388-f8f4-44b2-b8a8-eb0ab777340f",
   "metadata": {},
   "outputs": [
    {
     "data": {
      "text/html": [
       "<div>\n",
       "<style scoped>\n",
       "    .dataframe tbody tr th:only-of-type {\n",
       "        vertical-align: middle;\n",
       "    }\n",
       "\n",
       "    .dataframe tbody tr th {\n",
       "        vertical-align: top;\n",
       "    }\n",
       "\n",
       "    .dataframe thead th {\n",
       "        text-align: right;\n",
       "    }\n",
       "</style>\n",
       "<table border=\"1\" class=\"dataframe\">\n",
       "  <thead>\n",
       "    <tr style=\"text-align: right;\">\n",
       "      <th></th>\n",
       "      <th>Date</th>\n",
       "      <th>People saw 0 cars (unique)</th>\n",
       "      <th>People saw +1 cars (unique)</th>\n",
       "      <th>Coverage Ratio (%)</th>\n",
       "    </tr>\n",
       "  </thead>\n",
       "  <tbody>\n",
       "    <tr>\n",
       "      <th>0</th>\n",
       "      <td>2016-12-18 23</td>\n",
       "      <td>9</td>\n",
       "      <td>32</td>\n",
       "      <td>78</td>\n",
       "    </tr>\n",
       "    <tr>\n",
       "      <th>1</th>\n",
       "      <td>2016-12-18 22</td>\n",
       "      <td>29</td>\n",
       "      <td>64</td>\n",
       "      <td>69</td>\n",
       "    </tr>\n",
       "    <tr>\n",
       "      <th>2</th>\n",
       "      <td>2016-12-18 21</td>\n",
       "      <td>5</td>\n",
       "      <td>39</td>\n",
       "      <td>89</td>\n",
       "    </tr>\n",
       "    <tr>\n",
       "      <th>3</th>\n",
       "      <td>2016-12-18 20</td>\n",
       "      <td>13</td>\n",
       "      <td>48</td>\n",
       "      <td>79</td>\n",
       "    </tr>\n",
       "    <tr>\n",
       "      <th>4</th>\n",
       "      <td>2016-12-18 19</td>\n",
       "      <td>12</td>\n",
       "      <td>77</td>\n",
       "      <td>87</td>\n",
       "    </tr>\n",
       "  </tbody>\n",
       "</table>\n",
       "</div>"
      ],
      "text/plain": [
       "            Date  People saw 0 cars (unique)  People saw +1 cars (unique)  \\\n",
       "0  2016-12-18 23                           9                           32   \n",
       "1  2016-12-18 22                          29                           64   \n",
       "2  2016-12-18 21                           5                           39   \n",
       "3  2016-12-18 20                          13                           48   \n",
       "4  2016-12-18 19                          12                           77   \n",
       "\n",
       "   Coverage Ratio (%)  \n",
       "0                  78  \n",
       "1                  69  \n",
       "2                  89  \n",
       "3                  79  \n",
       "4                  87  "
      ]
     },
     "execution_count": 7,
     "metadata": {},
     "output_type": "execute_result"
    }
   ],
   "source": [
    "DemandData.head()"
   ]
  },
  {
   "cell_type": "code",
   "execution_count": 8,
   "id": "63a3e77e-d1ec-4095-b1ff-3b6ea8baae83",
   "metadata": {},
   "outputs": [
    {
     "data": {
      "text/html": [
       "<div>\n",
       "<style scoped>\n",
       "    .dataframe tbody tr th:only-of-type {\n",
       "        vertical-align: middle;\n",
       "    }\n",
       "\n",
       "    .dataframe tbody tr th {\n",
       "        vertical-align: top;\n",
       "    }\n",
       "\n",
       "    .dataframe thead th {\n",
       "        text-align: right;\n",
       "    }\n",
       "</style>\n",
       "<table border=\"1\" class=\"dataframe\">\n",
       "  <thead>\n",
       "    <tr style=\"text-align: right;\">\n",
       "      <th></th>\n",
       "      <th>Date</th>\n",
       "      <th>Active drivers</th>\n",
       "      <th>Online (h)</th>\n",
       "      <th>Has booking (h)</th>\n",
       "      <th>Waiting for booking (h)</th>\n",
       "      <th>Hours per active driver</th>\n",
       "      <th>Rides per online hour</th>\n",
       "      <th>Finished Rides</th>\n",
       "    </tr>\n",
       "  </thead>\n",
       "  <tbody>\n",
       "    <tr>\n",
       "      <th>0</th>\n",
       "      <td>2016-12-18 23</td>\n",
       "      <td>52</td>\n",
       "      <td>18</td>\n",
       "      <td>6</td>\n",
       "      <td>11</td>\n",
       "      <td>0.3</td>\n",
       "      <td>0.67</td>\n",
       "      <td>12.0</td>\n",
       "    </tr>\n",
       "    <tr>\n",
       "      <th>1</th>\n",
       "      <td>2016-12-18 22</td>\n",
       "      <td>59</td>\n",
       "      <td>20</td>\n",
       "      <td>11</td>\n",
       "      <td>9</td>\n",
       "      <td>0.3</td>\n",
       "      <td>1.40</td>\n",
       "      <td>28.0</td>\n",
       "    </tr>\n",
       "    <tr>\n",
       "      <th>2</th>\n",
       "      <td>2016-12-18 21</td>\n",
       "      <td>72</td>\n",
       "      <td>25</td>\n",
       "      <td>7</td>\n",
       "      <td>18</td>\n",
       "      <td>0.3</td>\n",
       "      <td>0.64</td>\n",
       "      <td>16.0</td>\n",
       "    </tr>\n",
       "    <tr>\n",
       "      <th>3</th>\n",
       "      <td>2016-12-18 20</td>\n",
       "      <td>86</td>\n",
       "      <td>29</td>\n",
       "      <td>7</td>\n",
       "      <td>23</td>\n",
       "      <td>0.3</td>\n",
       "      <td>0.52</td>\n",
       "      <td>15.0</td>\n",
       "    </tr>\n",
       "    <tr>\n",
       "      <th>4</th>\n",
       "      <td>2016-12-18 19</td>\n",
       "      <td>82</td>\n",
       "      <td>31</td>\n",
       "      <td>14</td>\n",
       "      <td>17</td>\n",
       "      <td>0.4</td>\n",
       "      <td>1.16</td>\n",
       "      <td>36.0</td>\n",
       "    </tr>\n",
       "  </tbody>\n",
       "</table>\n",
       "</div>"
      ],
      "text/plain": [
       "            Date  Active drivers  Online (h)  Has booking (h)  \\\n",
       "0  2016-12-18 23              52          18                6   \n",
       "1  2016-12-18 22              59          20               11   \n",
       "2  2016-12-18 21              72          25                7   \n",
       "3  2016-12-18 20              86          29                7   \n",
       "4  2016-12-18 19              82          31               14   \n",
       "\n",
       "   Waiting for booking (h)  Hours per active driver  Rides per online hour  \\\n",
       "0                       11                      0.3                   0.67   \n",
       "1                        9                      0.3                   1.40   \n",
       "2                       18                      0.3                   0.64   \n",
       "3                       23                      0.3                   0.52   \n",
       "4                       17                      0.4                   1.16   \n",
       "\n",
       "   Finished Rides  \n",
       "0            12.0  \n",
       "1            28.0  \n",
       "2            16.0  \n",
       "3            15.0  \n",
       "4            36.0  "
      ]
     },
     "execution_count": 8,
     "metadata": {},
     "output_type": "execute_result"
    }
   ],
   "source": [
    "SupplyData.head()"
   ]
  },
  {
   "cell_type": "code",
   "execution_count": 9,
   "id": "490f82cd-5a68-4348-9225-1fce22d5f402",
   "metadata": {},
   "outputs": [
    {
     "data": {
      "text/plain": [
       "0      2016-12-18 23\n",
       "1      2016-12-18 22\n",
       "2      2016-12-18 21\n",
       "3      2016-12-18 20\n",
       "4      2016-12-18 19\n",
       "           ...      \n",
       "834    2016-11-14 04\n",
       "835    2016-11-14 03\n",
       "836    2016-11-14 02\n",
       "837    2016-11-14 01\n",
       "838    2016-11-14 00\n",
       "Name: Date, Length: 839, dtype: object"
      ]
     },
     "execution_count": 9,
     "metadata": {},
     "output_type": "execute_result"
    }
   ],
   "source": [
    "DemandData['Date']"
   ]
  },
  {
   "cell_type": "markdown",
   "id": "586d9c01-3f47-4ba6-bc71-652ac0c73b71",
   "metadata": {
    "jp-MarkdownHeadingCollapsed": true
   },
   "source": [
    "#### Step 4: Changing the types of columns (from object to datetime)"
   ]
  },
  {
   "cell_type": "code",
   "execution_count": 11,
   "id": "c6609ddd-285d-4010-92c4-849ea4161ce1",
   "metadata": {},
   "outputs": [
    {
     "data": {
      "text/plain": [
       "0     2016-12-18 23:00:00\n",
       "1     2016-12-18 22:00:00\n",
       "2     2016-12-18 21:00:00\n",
       "3     2016-12-18 20:00:00\n",
       "4     2016-12-18 19:00:00\n",
       "              ...        \n",
       "834   2016-11-14 04:00:00\n",
       "835   2016-11-14 03:00:00\n",
       "836   2016-11-14 02:00:00\n",
       "837   2016-11-14 01:00:00\n",
       "838   2016-11-14 00:00:00\n",
       "Name: Date, Length: 839, dtype: datetime64[ns]"
      ]
     },
     "execution_count": 11,
     "metadata": {},
     "output_type": "execute_result"
    }
   ],
   "source": [
    "DemandData['Date'] = pds.to_datetime(DemandData['Date'])\n",
    "DemandData['Date']"
   ]
  },
  {
   "cell_type": "code",
   "execution_count": 12,
   "id": "d8759df7-4911-4bcc-893a-385af02cfbf8",
   "metadata": {},
   "outputs": [
    {
     "data": {
      "text/html": [
       "<div>\n",
       "<style scoped>\n",
       "    .dataframe tbody tr th:only-of-type {\n",
       "        vertical-align: middle;\n",
       "    }\n",
       "\n",
       "    .dataframe tbody tr th {\n",
       "        vertical-align: top;\n",
       "    }\n",
       "\n",
       "    .dataframe thead th {\n",
       "        text-align: right;\n",
       "    }\n",
       "</style>\n",
       "<table border=\"1\" class=\"dataframe\">\n",
       "  <thead>\n",
       "    <tr style=\"text-align: right;\">\n",
       "      <th></th>\n",
       "      <th>Date</th>\n",
       "      <th>People saw 0 cars (unique)</th>\n",
       "      <th>People saw +1 cars (unique)</th>\n",
       "      <th>Coverage Ratio (%)</th>\n",
       "    </tr>\n",
       "  </thead>\n",
       "  <tbody>\n",
       "    <tr>\n",
       "      <th>0</th>\n",
       "      <td>2016-12-18 23:00:00</td>\n",
       "      <td>9</td>\n",
       "      <td>32</td>\n",
       "      <td>78</td>\n",
       "    </tr>\n",
       "    <tr>\n",
       "      <th>1</th>\n",
       "      <td>2016-12-18 22:00:00</td>\n",
       "      <td>29</td>\n",
       "      <td>64</td>\n",
       "      <td>69</td>\n",
       "    </tr>\n",
       "    <tr>\n",
       "      <th>2</th>\n",
       "      <td>2016-12-18 21:00:00</td>\n",
       "      <td>5</td>\n",
       "      <td>39</td>\n",
       "      <td>89</td>\n",
       "    </tr>\n",
       "    <tr>\n",
       "      <th>3</th>\n",
       "      <td>2016-12-18 20:00:00</td>\n",
       "      <td>13</td>\n",
       "      <td>48</td>\n",
       "      <td>79</td>\n",
       "    </tr>\n",
       "    <tr>\n",
       "      <th>4</th>\n",
       "      <td>2016-12-18 19:00:00</td>\n",
       "      <td>12</td>\n",
       "      <td>77</td>\n",
       "      <td>87</td>\n",
       "    </tr>\n",
       "  </tbody>\n",
       "</table>\n",
       "</div>"
      ],
      "text/plain": [
       "                 Date  People saw 0 cars (unique)  \\\n",
       "0 2016-12-18 23:00:00                           9   \n",
       "1 2016-12-18 22:00:00                          29   \n",
       "2 2016-12-18 21:00:00                           5   \n",
       "3 2016-12-18 20:00:00                          13   \n",
       "4 2016-12-18 19:00:00                          12   \n",
       "\n",
       "   People saw +1 cars (unique)  Coverage Ratio (%)  \n",
       "0                           32                  78  \n",
       "1                           64                  69  \n",
       "2                           39                  89  \n",
       "3                           48                  79  \n",
       "4                           77                  87  "
      ]
     },
     "execution_count": 12,
     "metadata": {},
     "output_type": "execute_result"
    }
   ],
   "source": [
    "DemandData.head()"
   ]
  },
  {
   "cell_type": "code",
   "execution_count": 13,
   "id": "53073027-a439-4b17-947c-c1a278d8a808",
   "metadata": {},
   "outputs": [
    {
     "data": {
      "text/html": [
       "<div>\n",
       "<style scoped>\n",
       "    .dataframe tbody tr th:only-of-type {\n",
       "        vertical-align: middle;\n",
       "    }\n",
       "\n",
       "    .dataframe tbody tr th {\n",
       "        vertical-align: top;\n",
       "    }\n",
       "\n",
       "    .dataframe thead th {\n",
       "        text-align: right;\n",
       "    }\n",
       "</style>\n",
       "<table border=\"1\" class=\"dataframe\">\n",
       "  <thead>\n",
       "    <tr style=\"text-align: right;\">\n",
       "      <th></th>\n",
       "      <th>Date</th>\n",
       "      <th>Active drivers</th>\n",
       "      <th>Online (h)</th>\n",
       "      <th>Has booking (h)</th>\n",
       "      <th>Waiting for booking (h)</th>\n",
       "      <th>Hours per active driver</th>\n",
       "      <th>Rides per online hour</th>\n",
       "      <th>Finished Rides</th>\n",
       "    </tr>\n",
       "  </thead>\n",
       "  <tbody>\n",
       "    <tr>\n",
       "      <th>0</th>\n",
       "      <td>2016-12-18 23:00:00</td>\n",
       "      <td>52</td>\n",
       "      <td>18</td>\n",
       "      <td>6</td>\n",
       "      <td>11</td>\n",
       "      <td>0.3</td>\n",
       "      <td>0.67</td>\n",
       "      <td>12.0</td>\n",
       "    </tr>\n",
       "    <tr>\n",
       "      <th>1</th>\n",
       "      <td>2016-12-18 22:00:00</td>\n",
       "      <td>59</td>\n",
       "      <td>20</td>\n",
       "      <td>11</td>\n",
       "      <td>9</td>\n",
       "      <td>0.3</td>\n",
       "      <td>1.40</td>\n",
       "      <td>28.0</td>\n",
       "    </tr>\n",
       "    <tr>\n",
       "      <th>2</th>\n",
       "      <td>2016-12-18 21:00:00</td>\n",
       "      <td>72</td>\n",
       "      <td>25</td>\n",
       "      <td>7</td>\n",
       "      <td>18</td>\n",
       "      <td>0.3</td>\n",
       "      <td>0.64</td>\n",
       "      <td>16.0</td>\n",
       "    </tr>\n",
       "    <tr>\n",
       "      <th>3</th>\n",
       "      <td>2016-12-18 20:00:00</td>\n",
       "      <td>86</td>\n",
       "      <td>29</td>\n",
       "      <td>7</td>\n",
       "      <td>23</td>\n",
       "      <td>0.3</td>\n",
       "      <td>0.52</td>\n",
       "      <td>15.0</td>\n",
       "    </tr>\n",
       "    <tr>\n",
       "      <th>4</th>\n",
       "      <td>2016-12-18 19:00:00</td>\n",
       "      <td>82</td>\n",
       "      <td>31</td>\n",
       "      <td>14</td>\n",
       "      <td>17</td>\n",
       "      <td>0.4</td>\n",
       "      <td>1.16</td>\n",
       "      <td>36.0</td>\n",
       "    </tr>\n",
       "  </tbody>\n",
       "</table>\n",
       "</div>"
      ],
      "text/plain": [
       "                 Date  Active drivers  Online (h)  Has booking (h)  \\\n",
       "0 2016-12-18 23:00:00              52          18                6   \n",
       "1 2016-12-18 22:00:00              59          20               11   \n",
       "2 2016-12-18 21:00:00              72          25                7   \n",
       "3 2016-12-18 20:00:00              86          29                7   \n",
       "4 2016-12-18 19:00:00              82          31               14   \n",
       "\n",
       "   Waiting for booking (h)  Hours per active driver  Rides per online hour  \\\n",
       "0                       11                      0.3                   0.67   \n",
       "1                        9                      0.3                   1.40   \n",
       "2                       18                      0.3                   0.64   \n",
       "3                       23                      0.3                   0.52   \n",
       "4                       17                      0.4                   1.16   \n",
       "\n",
       "   Finished Rides  \n",
       "0            12.0  \n",
       "1            28.0  \n",
       "2            16.0  \n",
       "3            15.0  \n",
       "4            36.0  "
      ]
     },
     "execution_count": 13,
     "metadata": {},
     "output_type": "execute_result"
    }
   ],
   "source": [
    "SupplyData['Date'] = pds.to_datetime(SupplyData['Date'])\n",
    "SupplyData.head()"
   ]
  },
  {
   "cell_type": "markdown",
   "id": "3304d4d5-96c6-473a-94fc-d697b13253f6",
   "metadata": {},
   "source": [
    "#### Step 5: Extracting hours from 'Date' column for further analytics"
   ]
  },
  {
   "cell_type": "code",
   "execution_count": 17,
   "id": "33d2ea51-7f65-4a98-97c7-c86f1067ae38",
   "metadata": {},
   "outputs": [
    {
     "data": {
      "text/html": [
       "<div>\n",
       "<style scoped>\n",
       "    .dataframe tbody tr th:only-of-type {\n",
       "        vertical-align: middle;\n",
       "    }\n",
       "\n",
       "    .dataframe tbody tr th {\n",
       "        vertical-align: top;\n",
       "    }\n",
       "\n",
       "    .dataframe thead th {\n",
       "        text-align: right;\n",
       "    }\n",
       "</style>\n",
       "<table border=\"1\" class=\"dataframe\">\n",
       "  <thead>\n",
       "    <tr style=\"text-align: right;\">\n",
       "      <th></th>\n",
       "      <th>Date</th>\n",
       "      <th>People saw 0 cars (unique)</th>\n",
       "      <th>People saw +1 cars (unique)</th>\n",
       "      <th>Coverage Ratio (%)</th>\n",
       "      <th>DateHour</th>\n",
       "    </tr>\n",
       "  </thead>\n",
       "  <tbody>\n",
       "    <tr>\n",
       "      <th>0</th>\n",
       "      <td>2016-12-18 23:00:00</td>\n",
       "      <td>9</td>\n",
       "      <td>32</td>\n",
       "      <td>78</td>\n",
       "      <td>23</td>\n",
       "    </tr>\n",
       "    <tr>\n",
       "      <th>1</th>\n",
       "      <td>2016-12-18 22:00:00</td>\n",
       "      <td>29</td>\n",
       "      <td>64</td>\n",
       "      <td>69</td>\n",
       "      <td>22</td>\n",
       "    </tr>\n",
       "    <tr>\n",
       "      <th>2</th>\n",
       "      <td>2016-12-18 21:00:00</td>\n",
       "      <td>5</td>\n",
       "      <td>39</td>\n",
       "      <td>89</td>\n",
       "      <td>21</td>\n",
       "    </tr>\n",
       "    <tr>\n",
       "      <th>3</th>\n",
       "      <td>2016-12-18 20:00:00</td>\n",
       "      <td>13</td>\n",
       "      <td>48</td>\n",
       "      <td>79</td>\n",
       "      <td>20</td>\n",
       "    </tr>\n",
       "    <tr>\n",
       "      <th>4</th>\n",
       "      <td>2016-12-18 19:00:00</td>\n",
       "      <td>12</td>\n",
       "      <td>77</td>\n",
       "      <td>87</td>\n",
       "      <td>19</td>\n",
       "    </tr>\n",
       "  </tbody>\n",
       "</table>\n",
       "</div>"
      ],
      "text/plain": [
       "                 Date  People saw 0 cars (unique)  \\\n",
       "0 2016-12-18 23:00:00                           9   \n",
       "1 2016-12-18 22:00:00                          29   \n",
       "2 2016-12-18 21:00:00                           5   \n",
       "3 2016-12-18 20:00:00                          13   \n",
       "4 2016-12-18 19:00:00                          12   \n",
       "\n",
       "   People saw +1 cars (unique)  Coverage Ratio (%)  DateHour  \n",
       "0                           32                  78        23  \n",
       "1                           64                  69        22  \n",
       "2                           39                  89        21  \n",
       "3                           48                  79        20  \n",
       "4                           77                  87        19  "
      ]
     },
     "execution_count": 17,
     "metadata": {},
     "output_type": "execute_result"
    }
   ],
   "source": [
    "DemandData['DateHour'] = DemandData['Date'].dt.hour\n",
    "DemandData.head()"
   ]
  },
  {
   "cell_type": "code",
   "execution_count": 18,
   "id": "d049315f-63de-4ba9-a384-a01e12ea353c",
   "metadata": {},
   "outputs": [
    {
     "data": {
      "text/html": [
       "<div>\n",
       "<style scoped>\n",
       "    .dataframe tbody tr th:only-of-type {\n",
       "        vertical-align: middle;\n",
       "    }\n",
       "\n",
       "    .dataframe tbody tr th {\n",
       "        vertical-align: top;\n",
       "    }\n",
       "\n",
       "    .dataframe thead th {\n",
       "        text-align: right;\n",
       "    }\n",
       "</style>\n",
       "<table border=\"1\" class=\"dataframe\">\n",
       "  <thead>\n",
       "    <tr style=\"text-align: right;\">\n",
       "      <th></th>\n",
       "      <th>Date</th>\n",
       "      <th>Active drivers</th>\n",
       "      <th>Online (h)</th>\n",
       "      <th>Has booking (h)</th>\n",
       "      <th>Waiting for booking (h)</th>\n",
       "      <th>Hours per active driver</th>\n",
       "      <th>Rides per online hour</th>\n",
       "      <th>Finished Rides</th>\n",
       "      <th>DateHour</th>\n",
       "    </tr>\n",
       "  </thead>\n",
       "  <tbody>\n",
       "    <tr>\n",
       "      <th>0</th>\n",
       "      <td>2016-12-18 23:00:00</td>\n",
       "      <td>52</td>\n",
       "      <td>18</td>\n",
       "      <td>6</td>\n",
       "      <td>11</td>\n",
       "      <td>0.3</td>\n",
       "      <td>0.67</td>\n",
       "      <td>12.0</td>\n",
       "      <td>23</td>\n",
       "    </tr>\n",
       "    <tr>\n",
       "      <th>1</th>\n",
       "      <td>2016-12-18 22:00:00</td>\n",
       "      <td>59</td>\n",
       "      <td>20</td>\n",
       "      <td>11</td>\n",
       "      <td>9</td>\n",
       "      <td>0.3</td>\n",
       "      <td>1.40</td>\n",
       "      <td>28.0</td>\n",
       "      <td>22</td>\n",
       "    </tr>\n",
       "    <tr>\n",
       "      <th>2</th>\n",
       "      <td>2016-12-18 21:00:00</td>\n",
       "      <td>72</td>\n",
       "      <td>25</td>\n",
       "      <td>7</td>\n",
       "      <td>18</td>\n",
       "      <td>0.3</td>\n",
       "      <td>0.64</td>\n",
       "      <td>16.0</td>\n",
       "      <td>21</td>\n",
       "    </tr>\n",
       "    <tr>\n",
       "      <th>3</th>\n",
       "      <td>2016-12-18 20:00:00</td>\n",
       "      <td>86</td>\n",
       "      <td>29</td>\n",
       "      <td>7</td>\n",
       "      <td>23</td>\n",
       "      <td>0.3</td>\n",
       "      <td>0.52</td>\n",
       "      <td>15.0</td>\n",
       "      <td>20</td>\n",
       "    </tr>\n",
       "    <tr>\n",
       "      <th>4</th>\n",
       "      <td>2016-12-18 19:00:00</td>\n",
       "      <td>82</td>\n",
       "      <td>31</td>\n",
       "      <td>14</td>\n",
       "      <td>17</td>\n",
       "      <td>0.4</td>\n",
       "      <td>1.16</td>\n",
       "      <td>36.0</td>\n",
       "      <td>19</td>\n",
       "    </tr>\n",
       "  </tbody>\n",
       "</table>\n",
       "</div>"
      ],
      "text/plain": [
       "                 Date  Active drivers  Online (h)  Has booking (h)  \\\n",
       "0 2016-12-18 23:00:00              52          18                6   \n",
       "1 2016-12-18 22:00:00              59          20               11   \n",
       "2 2016-12-18 21:00:00              72          25                7   \n",
       "3 2016-12-18 20:00:00              86          29                7   \n",
       "4 2016-12-18 19:00:00              82          31               14   \n",
       "\n",
       "   Waiting for booking (h)  Hours per active driver  Rides per online hour  \\\n",
       "0                       11                      0.3                   0.67   \n",
       "1                        9                      0.3                   1.40   \n",
       "2                       18                      0.3                   0.64   \n",
       "3                       23                      0.3                   0.52   \n",
       "4                       17                      0.4                   1.16   \n",
       "\n",
       "   Finished Rides  DateHour  \n",
       "0            12.0        23  \n",
       "1            28.0        22  \n",
       "2            16.0        21  \n",
       "3            15.0        20  \n",
       "4            36.0        19  "
      ]
     },
     "execution_count": 18,
     "metadata": {},
     "output_type": "execute_result"
    }
   ],
   "source": [
    "SupplyData['DateHour'] = SupplyData['Date'].dt.hour\n",
    "SupplyData.head()"
   ]
  },
  {
   "cell_type": "markdown",
   "id": "dfd4ad1d-655f-4a54-985b-f8a4205b0ff7",
   "metadata": {
    "jp-MarkdownHeadingCollapsed": true
   },
   "source": [
    "#### Step 6: Calculating average Coverage ratio and Online hours for analyzing Demand and Supply trends"
   ]
  },
  {
   "cell_type": "code",
   "execution_count": 22,
   "id": "ab40e87f-7ac1-4178-a997-bbd74e65448d",
   "metadata": {},
   "outputs": [],
   "source": [
    "DemandAVG = DemandData.groupby('DateHour').mean()"
   ]
  },
  {
   "cell_type": "code",
   "execution_count": 23,
   "id": "600d7e5e-a22b-4980-8234-6c89c4c954b1",
   "metadata": {},
   "outputs": [
    {
     "data": {
      "text/html": [
       "<div>\n",
       "<style scoped>\n",
       "    .dataframe tbody tr th:only-of-type {\n",
       "        vertical-align: middle;\n",
       "    }\n",
       "\n",
       "    .dataframe tbody tr th {\n",
       "        vertical-align: top;\n",
       "    }\n",
       "\n",
       "    .dataframe thead th {\n",
       "        text-align: right;\n",
       "    }\n",
       "</style>\n",
       "<table border=\"1\" class=\"dataframe\">\n",
       "  <thead>\n",
       "    <tr style=\"text-align: right;\">\n",
       "      <th></th>\n",
       "      <th>Date</th>\n",
       "      <th>People saw 0 cars (unique)</th>\n",
       "      <th>People saw +1 cars (unique)</th>\n",
       "      <th>Coverage Ratio (%)</th>\n",
       "    </tr>\n",
       "    <tr>\n",
       "      <th>DateHour</th>\n",
       "      <th></th>\n",
       "      <th></th>\n",
       "      <th></th>\n",
       "      <th></th>\n",
       "    </tr>\n",
       "  </thead>\n",
       "  <tbody>\n",
       "    <tr>\n",
       "      <th>0</th>\n",
       "      <td>2016-12-01 00:00:00</td>\n",
       "      <td>8.714286</td>\n",
       "      <td>45.342857</td>\n",
       "      <td>84.942857</td>\n",
       "    </tr>\n",
       "    <tr>\n",
       "      <th>1</th>\n",
       "      <td>2016-12-01 01:00:00</td>\n",
       "      <td>7.542857</td>\n",
       "      <td>30.228571</td>\n",
       "      <td>80.400000</td>\n",
       "    </tr>\n",
       "    <tr>\n",
       "      <th>2</th>\n",
       "      <td>2016-12-01 02:00:00</td>\n",
       "      <td>8.257143</td>\n",
       "      <td>22.085714</td>\n",
       "      <td>76.171429</td>\n",
       "    </tr>\n",
       "    <tr>\n",
       "      <th>3</th>\n",
       "      <td>2016-12-01 03:00:00</td>\n",
       "      <td>12.228571</td>\n",
       "      <td>18.400000</td>\n",
       "      <td>63.628571</td>\n",
       "    </tr>\n",
       "    <tr>\n",
       "      <th>4</th>\n",
       "      <td>2016-12-01 04:00:00</td>\n",
       "      <td>13.028571</td>\n",
       "      <td>12.800000</td>\n",
       "      <td>53.428571</td>\n",
       "    </tr>\n",
       "  </tbody>\n",
       "</table>\n",
       "</div>"
      ],
      "text/plain": [
       "                        Date  People saw 0 cars (unique)  \\\n",
       "DateHour                                                   \n",
       "0        2016-12-01 00:00:00                    8.714286   \n",
       "1        2016-12-01 01:00:00                    7.542857   \n",
       "2        2016-12-01 02:00:00                    8.257143   \n",
       "3        2016-12-01 03:00:00                   12.228571   \n",
       "4        2016-12-01 04:00:00                   13.028571   \n",
       "\n",
       "          People saw +1 cars (unique)  Coverage Ratio (%)  \n",
       "DateHour                                                   \n",
       "0                           45.342857           84.942857  \n",
       "1                           30.228571           80.400000  \n",
       "2                           22.085714           76.171429  \n",
       "3                           18.400000           63.628571  \n",
       "4                           12.800000           53.428571  "
      ]
     },
     "execution_count": 23,
     "metadata": {},
     "output_type": "execute_result"
    }
   ],
   "source": [
    "DemandAVG.head()"
   ]
  },
  {
   "cell_type": "code",
   "execution_count": 26,
   "id": "9cfd2fb8-880f-4112-a742-391d3695a555",
   "metadata": {},
   "outputs": [],
   "source": [
    "SupplyAVG = SupplyData.groupby('DateHour').mean()"
   ]
  },
  {
   "cell_type": "code",
   "execution_count": 28,
   "id": "e7ba0cf6-5581-433f-a844-de77a7aca5ad",
   "metadata": {},
   "outputs": [
    {
     "data": {
      "text/html": [
       "<div>\n",
       "<style scoped>\n",
       "    .dataframe tbody tr th:only-of-type {\n",
       "        vertical-align: middle;\n",
       "    }\n",
       "\n",
       "    .dataframe tbody tr th {\n",
       "        vertical-align: top;\n",
       "    }\n",
       "\n",
       "    .dataframe thead th {\n",
       "        text-align: right;\n",
       "    }\n",
       "</style>\n",
       "<table border=\"1\" class=\"dataframe\">\n",
       "  <thead>\n",
       "    <tr style=\"text-align: right;\">\n",
       "      <th></th>\n",
       "      <th>Date</th>\n",
       "      <th>Active drivers</th>\n",
       "      <th>Online (h)</th>\n",
       "      <th>Has booking (h)</th>\n",
       "      <th>Waiting for booking (h)</th>\n",
       "      <th>Hours per active driver</th>\n",
       "      <th>Rides per online hour</th>\n",
       "      <th>Finished Rides</th>\n",
       "    </tr>\n",
       "    <tr>\n",
       "      <th>DateHour</th>\n",
       "      <th></th>\n",
       "      <th></th>\n",
       "      <th></th>\n",
       "      <th></th>\n",
       "      <th></th>\n",
       "      <th></th>\n",
       "      <th></th>\n",
       "      <th></th>\n",
       "    </tr>\n",
       "  </thead>\n",
       "  <tbody>\n",
       "    <tr>\n",
       "      <th>0</th>\n",
       "      <td>2016-12-01 00:00:00</td>\n",
       "      <td>61.171429</td>\n",
       "      <td>24.657143</td>\n",
       "      <td>7.714286</td>\n",
       "      <td>16.971429</td>\n",
       "      <td>0.402857</td>\n",
       "      <td>0.764286</td>\n",
       "      <td>19.685714</td>\n",
       "    </tr>\n",
       "    <tr>\n",
       "      <th>1</th>\n",
       "      <td>2016-12-01 01:00:00</td>\n",
       "      <td>51.514286</td>\n",
       "      <td>20.428571</td>\n",
       "      <td>5.200000</td>\n",
       "      <td>15.257143</td>\n",
       "      <td>0.388571</td>\n",
       "      <td>0.550571</td>\n",
       "      <td>13.264706</td>\n",
       "    </tr>\n",
       "    <tr>\n",
       "      <th>2</th>\n",
       "      <td>2016-12-01 02:00:00</td>\n",
       "      <td>39.714286</td>\n",
       "      <td>15.857143</td>\n",
       "      <td>3.685714</td>\n",
       "      <td>12.200000</td>\n",
       "      <td>0.388571</td>\n",
       "      <td>0.518857</td>\n",
       "      <td>10.125000</td>\n",
       "    </tr>\n",
       "    <tr>\n",
       "      <th>3</th>\n",
       "      <td>2016-12-01 03:00:00</td>\n",
       "      <td>31.942857</td>\n",
       "      <td>12.742857</td>\n",
       "      <td>3.114286</td>\n",
       "      <td>9.514286</td>\n",
       "      <td>0.388571</td>\n",
       "      <td>0.492857</td>\n",
       "      <td>10.035714</td>\n",
       "    </tr>\n",
       "    <tr>\n",
       "      <th>4</th>\n",
       "      <td>2016-12-01 04:00:00</td>\n",
       "      <td>27.371429</td>\n",
       "      <td>10.314286</td>\n",
       "      <td>2.657143</td>\n",
       "      <td>7.657143</td>\n",
       "      <td>0.368571</td>\n",
       "      <td>0.468000</td>\n",
       "      <td>10.000000</td>\n",
       "    </tr>\n",
       "  </tbody>\n",
       "</table>\n",
       "</div>"
      ],
      "text/plain": [
       "                        Date  Active drivers  Online (h)  Has booking (h)  \\\n",
       "DateHour                                                                    \n",
       "0        2016-12-01 00:00:00       61.171429   24.657143         7.714286   \n",
       "1        2016-12-01 01:00:00       51.514286   20.428571         5.200000   \n",
       "2        2016-12-01 02:00:00       39.714286   15.857143         3.685714   \n",
       "3        2016-12-01 03:00:00       31.942857   12.742857         3.114286   \n",
       "4        2016-12-01 04:00:00       27.371429   10.314286         2.657143   \n",
       "\n",
       "          Waiting for booking (h)  Hours per active driver  \\\n",
       "DateHour                                                     \n",
       "0                       16.971429                 0.402857   \n",
       "1                       15.257143                 0.388571   \n",
       "2                       12.200000                 0.388571   \n",
       "3                        9.514286                 0.388571   \n",
       "4                        7.657143                 0.368571   \n",
       "\n",
       "          Rides per online hour  Finished Rides  \n",
       "DateHour                                         \n",
       "0                      0.764286       19.685714  \n",
       "1                      0.550571       13.264706  \n",
       "2                      0.518857       10.125000  \n",
       "3                      0.492857       10.035714  \n",
       "4                      0.468000       10.000000  "
      ]
     },
     "execution_count": 28,
     "metadata": {},
     "output_type": "execute_result"
    }
   ],
   "source": [
    "SupplyAVG.head()"
   ]
  },
  {
   "cell_type": "markdown",
   "id": "e3e71005-7ed8-40a3-8e9a-8853fa529eb7",
   "metadata": {},
   "source": [
    "#### Step 7: Making average coverage barchart by hours for identifying which period of time had most efficient usage"
   ]
  },
  {
   "cell_type": "code",
   "execution_count": 36,
   "id": "fab56771-24b5-4001-ac89-7383f736be73",
   "metadata": {},
   "outputs": [
    {
     "data": {
      "text/plain": [
       "<BarContainer object of 24 artists>"
      ]
     },
     "execution_count": 36,
     "metadata": {},
     "output_type": "execute_result"
    },
    {
     "data": {
      "image/png": "[encoded data removed]",
      "text/plain": [
       "<Figure size 640x480 with 1 Axes>"
      ]
     },
     "metadata": {},
     "output_type": "display_data"
    }
   ],
   "source": [
    "hrs = range(0,24)\n",
    "DemandBar = plt.bar(hrs,DemandAVG['Coverage Ratio (%)'])\n",
    "plt.xticks(hrs)\n",
    "plt.xlabel('Period of Day (in hours)')\n",
    "plt.ylabel('Average Coverage Ratio')\n",
    "DemandBar"
   ]
  },
  {
   "cell_type": "markdown",
   "id": "efb10d90-3cea-4e78-b875-123f0c28940d",
   "metadata": {},
   "source": [
    "#### Step 8: Making average online hours supply barchart for identifying which period of time drivers were more busy"
   ]
  },
  {
   "cell_type": "code",
   "execution_count": 35,
   "id": "cac4cc60-61cf-4eed-9a4b-7f890e000200",
   "metadata": {},
   "outputs": [
    {
     "data": {
      "text/plain": [
       "<BarContainer object of 24 artists>"
      ]
     },
     "execution_count": 35,
     "metadata": {},
     "output_type": "execute_result"
    },
    {
     "data": {
      "image/png": "[encoded data removed]",
      "text/plain": [
       "<Figure size 640x480 with 1 Axes>"
      ]
     },
     "metadata": {},
     "output_type": "display_data"
    }
   ],
   "source": [
    "SupplyBar = plt.bar(hrs,SupplyAVG['Online (h)'])\n",
    "plt.xticks(hrs)\n",
    "plt.xlabel('Period of Day (in hours)')\n",
    "plt.ylabel('Average Online Hours Available')\n",
    "SupplyBar"
   ]
  },
  {
   "cell_type": "markdown",
   "id": "9800edcf-bc9a-44f1-a6da-3638ea3d456b",
   "metadata": {},
   "source": [
    "#### Results: As diagrams have shown, more efficient and more busy time frames were on morning hours, between 8 am and 12 pm, and evening hours, between 17 pm and 1 am.\n",
    "#### The reason is that in morning people go to the jobs and in the evening they come back, and therefore has more demand on taxi drivers."
   ]
  },
  {
   "cell_type": "markdown",
   "id": "6864ac12-6886-4b12-b009-8c695277e0d0",
   "metadata": {},
   "source": [
    "#### Step 9: Calculating minimum required online hours to have good coverage ratio"
   ]
  },
  {
   "cell_type": "code",
   "execution_count": 39,
   "id": "96a3deab-e65b-49b8-b832-8a6ce1c1b140",
   "metadata": {},
   "outputs": [
    {
     "data": {
      "text/plain": [
       "count    840.000000\n",
       "mean      23.197619\n",
       "min        2.000000\n",
       "25%       14.000000\n",
       "50%       23.000000\n",
       "75%       31.000000\n",
       "max       56.000000\n",
       "std       11.101503\n",
       "Name: Online (h), dtype: float64"
      ]
     },
     "execution_count": 39,
     "metadata": {},
     "output_type": "execute_result"
    }
   ],
   "source": [
    "SupplyData.describe()['Online (h)']"
   ]
  },
  {
   "cell_type": "markdown",
   "id": "a7f05e05-f12f-477b-b4ac-916cbc1e0292",
   "metadata": {},
   "source": [
    "#### Conclusion: It's necessary to provide more than 23 online hours to have good coverage ratio "
   ]
  },
  {
   "cell_type": "code",
   "execution_count": null,
   "id": "ec2644df-2461-4bee-b14b-e3352aec9e72",
   "metadata": {},
   "outputs": [],
   "source": []
  }
 ],
 "metadata": {
  "kernelspec": {
   "display_name": "Python 3 (ipykernel)",
   "language": "python",
   "name": "python3"
  },
  "language_info": {
   "codemirror_mode": {
    "name": "ipython",
    "version": 3
   },
   "file_extension": ".py",
   "mimetype": "text/x-python",
   "name": "python",
   "nbconvert_exporter": "python",
   "pygments_lexer": "ipython3",
   "version": "3.11.7"
  }
 },
 "nbformat": 4,
 "nbformat_minor": 5
}
